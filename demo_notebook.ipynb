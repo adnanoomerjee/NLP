{
 "cells": [
  {
   "cell_type": "code",
   "execution_count": 4,
   "metadata": {},
   "outputs": [],
   "source": [
    "# describe how data was pre-processed and show sample output \n",
    "\n",
    "# Combine all datasets and tokenize text using the BERT tokenizer\n",
    "# Create a dataset by combining the previous, current, and next sentences together. \n",
    "# If the current sentence is the first or last sentence of the file, then an empty string is \n",
    "# used as the previous or next sentence. \n",
    "# Data split into training and test sets."
   ]
  },
  {
   "cell_type": "code",
   "execution_count": null,
   "metadata": {},
   "outputs": [],
   "source": [
    "# description of the 4 networks (including the baseline one)\n",
    "\n",
    "# Baseline: [TO DO]\n",
    "# Network1: Network with 3 BERT embedding layers, taking target, preceding, and following sentence.\n",
    "    # Embeds three sentences.\n",
    "    # Passes pooled outputs (CLS tokens) of each sentence as a sequence to a Bi-LSTM. \n",
    "    # Takes middle hidden state of Bi-LSTM and passes through a two layer MLP.\n",
    "# Network2: Network with 3 BERT embedding layers, taking target, preceding, and following sentence.\n",
    "    # Embeds three sentences using BERT transformers.\n",
    "    # Passes pooled outputs (CLS tokens) into two attention heads, computing attention between (S_T, S_P) and (S_T, S_F). \n",
    "    # Concatenates outputs of attention heads and passes through a two layer MLP.\n",
    "# Network3: Network with 3 BERT embedding layers, taking target, preceding, and following sentence.\n",
    "    # Embeds three sentences using BERT transformers.\n",
    "    # Passes pooled outputs (CLS tokens) into two attention heads, computing attention between (S_T, S_P) and (S_T, S_F). \n",
    "    # Concatenates outputs of attention heads and passes through a two layer MLP.\n",
    "    "
   ]
  },
  {
   "cell_type": "code",
   "execution_count": 5,
   "metadata": {},
   "outputs": [],
   "source": [
    "# Trained the networks using train.py script.\n",
    "# Output the print statements from training."
   ]
  },
  {
   "cell_type": "code",
   "execution_count": 6,
   "metadata": {},
   "outputs": [],
   "source": [
    "# Evaluated the performance of each network using precision, recall, f1, and accuracy; weighted and unweighted except accuracy.\n",
    "# Potentially could just run that file here.\n",
    "# Output the print statements/dataframes from the eval_metrics.py file"
   ]
  },
  {
   "cell_type": "code",
   "execution_count": null,
   "metadata": {},
   "outputs": [],
   "source": [
    "# Maybe a markdown for any other things that should be noted when trying to reproduce "
   ]
  }
 ],
 "metadata": {
  "kernelspec": {
   "display_name": "NLP00",
   "language": "python",
   "name": "python3"
  },
  "language_info": {
   "codemirror_mode": {
    "name": "ipython",
    "version": 3
   },
   "file_extension": ".py",
   "mimetype": "text/x-python",
   "name": "python",
   "nbconvert_exporter": "python",
   "pygments_lexer": "ipython3",
   "version": "3.10.8"
  },
  "orig_nbformat": 4
 },
 "nbformat": 4,
 "nbformat_minor": 2
}
